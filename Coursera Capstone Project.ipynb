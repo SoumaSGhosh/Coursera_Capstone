{
    "nbformat_minor": 1, 
    "cells": [
        {
            "source": "## Project for Coursera Capstone", 
            "cell_type": "markdown", 
            "metadata": {
                "collapsed": true
            }
        }, 
        {
            "source": "## Introduction", 
            "cell_type": "markdown", 
            "metadata": {}
        }, 
        {
            "source": "In this project we will explore if someone wants to open a business at Manhattan Area of New York City what will be the recommanded neighborhood. ", 
            "cell_type": "markdown", 
            "metadata": {}
        }, 
        {
            "source": "## Business Problem", 
            "cell_type": "markdown", 
            "metadata": {}
        }, 
        {
            "source": "The Manhattan area of New York is the economic and administrative center. It is often described as the cultural, financial, media, and entertainment capital of the world. Thus it offers a great opportunity for someone who is trying to open a new shop. However being a diverse metropolitan it also pose certain challanges to figure out where to start a new business.\n\nIt would be nice if there is a recommander system which analyze the different neighborhoods and recommand the best area to open the business. This machine learning recommander system will help the small business owner make a informed decision on best areas to open the business.\n", 
            "cell_type": "markdown", 
            "metadata": {}
        }, 
        {
            "source": "## Data", 
            "cell_type": "markdown", 
            "metadata": {}
        }, 
        {
            "source": "The recommander system will use the Foursquare location data to get details of the presense of similar type of business in each neighborhood. It will then try to use the clustering algorithm to cluster the neighborhood to group them and provide addition details of those neighbourhood. \n\nThe data from Foursquare will be fetched using the longitude and latiatude details of neighborhoods around Manhattan. ", 
            "cell_type": "markdown", 
            "metadata": {}
        }, 
        {
            "execution_count": null, 
            "cell_type": "code", 
            "metadata": {}, 
            "outputs": [], 
            "source": ""
        }
    ], 
    "metadata": {
        "kernelspec": {
            "display_name": "Python 3.5", 
            "name": "python3", 
            "language": "python"
        }, 
        "language_info": {
            "mimetype": "text/x-python", 
            "nbconvert_exporter": "python", 
            "version": "3.5.5", 
            "name": "python", 
            "file_extension": ".py", 
            "pygments_lexer": "ipython3", 
            "codemirror_mode": {
                "version": 3, 
                "name": "ipython"
            }
        }
    }, 
    "nbformat": 4
}